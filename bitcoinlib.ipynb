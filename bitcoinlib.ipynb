{
 "cells": [
  {
   "cell_type": "code",
   "execution_count": 148,
   "id": "56128176-9e94-45de-971b-490467d13a6d",
   "metadata": {},
   "outputs": [
    {
     "data": {
      "text/plain": [
       "{'blockcount': 2503106,\n",
       " 'chain': 'test',\n",
       " 'difficulty': 16777216,\n",
       " 'hashrate': 537484039530083,\n",
       " 'mempool_size': 3}"
      ]
     },
     "execution_count": 148,
     "metadata": {},
     "output_type": "execute_result"
    }
   ],
   "source": [
    "# Connecting to bitcoind: https://bitcoinlib.readthedocs.io/en/latest/source/_static/manuals.setup-bitcoind-connection.html\n",
    "\n",
    "from bitcoinlib.services.bitcoind import BitcoindClient\n",
    "import os\n",
    "\n",
    "config_file = os.path.join(os.getcwd(), 'bitcoin.conf') \n",
    "bdc = BitcoindClient.from_config(config_file)\n",
    "bdc.getinfo()"
   ]
  },
  {
   "cell_type": "code",
   "execution_count": 79,
   "id": "38fa4c33-f4d5-4ebc-8790-2953f36fee48",
   "metadata": {},
   "outputs": [],
   "source": [
    "# Generating a seed \n",
    "# NOTE - seeds generated without a sufficient amount of entropy are not secure.\n",
    "# bitcoinlib uses urandom which generally has a high amount of entropy but I would still not recommend the below method\n",
    "# for generating seeds that are used to hold funds that you would not want to lose. Look into alternatives.\n",
    "# Reddit thread discussing recent libbitcoin seed entropy issue: https://www.reddit.com/r/Buttcoin/comments/15n1nfe/be_your_own_bank_is_going_great_libbitcoin/\n",
    "\n",
    "# https://bitcoinlib.readthedocs.io/en/latest/source/bitcoinlib.mnemonic.html#bitcoinlib.mnemonic.Mnemonic.generate\n",
    "from bitcoinlib.mnemonic import Mnemonic\n",
    "mnemonic = Mnemonic()\n",
    "\n",
    "# Use strength 256 for a 24 word seed\n",
    "# seed = mnemonic.generate(strength=128)\n",
    "# print(\"This seed can be entered in another bitcoin wallet client application, such as Sparrow. Make sure to select testnet\")\n",
    "# print(seed)\n",
    "seed = 'season member giggle rather promote clerk join reject summer gallery early capable'\n"
   ]
  },
  {
   "cell_type": "code",
   "execution_count": 80,
   "id": "30e399fc-1aff-4eb3-9438-e052c42ad930",
   "metadata": {},
   "outputs": [
    {
     "name": "stdout",
     "output_type": "stream",
     "text": [
      "KEY INFO\n",
      " Network                     testnet\n",
      " Compressed                  True\n",
      "SECRET EXPONENT\n",
      " Private Key (hex)              a6143a6f5e600c451e834cc922c1f10b0906f716096dc8766c941a6631df647e\n",
      " Private Key (long)             75119673109898849306328974205437485274883348073817201716087953336391224484990\n",
      " Private Key (wif)              cT9Y8ZS5vbBMBNvATtb9M2KwxpknktoAWoV2gmfPPRn8Bj3Ts2A4\n",
      "PUBLIC KEY\n",
      " Public Key (hex)            02a0777fefe0250d357fc67369c13757ac67abd02f0fd58ff292b68cc61d25be79\n",
      " Public Key uncompr. (hex)   04a0777fefe0250d357fc67369c13757ac67abd02f0fd58ff292b68cc61d25be795819c5821068a1500aca48a2dbb9a55c6784903ded97cefc50059152f9e7a2c0\n",
      " Public Key Hash160          f79491e12f42173e72a559d03b47e39d84ef7110\n",
      " Address (b58)               tb1q772frcf0ggtnuu49t8grk3lrnkzw7ugsqg6a07\n",
      " Point x                     72581193562849741202482230243547344760009505492884206914524161556264138423929\n",
      " Point y                     39849065002498325260386511579661239795094478627013803722763785010150684205760\n",
      "EXTENDED KEY\n",
      " Key Type                    bip32\n",
      " Chain code (hex)            97fcae6a25d438bbb2246513ee6d94083bc2bfdbf005867686acf26a5cd8bfff\n",
      " Child Index                 0\n",
      " Parent Fingerprint (hex)    00000000\n",
      " Depth                       0\n",
      " Extended Public Key (wif)   vpub5SLqN2bLY4WeZTpGLaJQEEymLeTnB4x6NJHxLrY5Wd9445PaWzP9CZw7E57T73RuYNBWhG6tob2Gnab7DEoaujm4CcLLgosy3jzaa6PezwL\n",
      " Witness type                segwit\n",
      " Script type                 sig_pubkey\n",
      " Multisig                    False\n",
      " Extended Private Key (wif)  vprv9DMUxX4ShgxMLyjoEYmPs732ncdHmcEF15NMYU8TxHc5BH4RyT4temcdNp8A269DJujKkYbEFgfqjg4RjRUKrJMtYL3N4ExVvbSJp6sU86V\n",
      "\n",
      "\n"
     ]
    }
   ],
   "source": [
    "# Creating an HDKey using your seed\n",
    "# https://bitcoinlib.readthedocs.io/en/latest/source/bitcoinlib.keys.html#bitcoinlib.keys.HDKey.from_passphrase\n",
    "from bitcoinlib.keys import HDKey\n",
    "\n",
    "key = HDKey.from_passphrase(seed, witness_type='segwit', network='testnet')\n",
    "key.info()"
   ]
  },
  {
   "cell_type": "code",
   "execution_count": 81,
   "id": "c9b0e58f-d1df-4402-b8a8-e338f3139dbc",
   "metadata": {},
   "outputs": [
    {
     "name": "stderr",
     "output_type": "stream",
     "text": [
      "WARNING:bitcoinlib.wallets:Opening existing wallet, extra options are ignored\n"
     ]
    },
    {
     "name": "stdout",
     "output_type": "stream",
     "text": [
      "=== WALLET ===\n",
      " ID                             3\n",
      " Name                           Workshop Test\n",
      " Owner                          \n",
      " Scheme                         bip32\n",
      " Multisig                       False\n",
      " Witness type                   segwit\n",
      " Main network                   testnet\n",
      " Latest update                  None\n",
      "\n",
      "= Wallet Master Key =\n",
      " ID                             16\n",
      " Private                        True\n",
      " Depth                          0\n",
      "\n",
      "- NETWORK: testnet -\n",
      "- - Keys\n",
      "   21 m/84'/1'/0'/0/0              tb1qnfv97q9544e6g75asuggtr02dhksmw2gw0nmav    address index 0                     0.00006446 TBTC\n",
      "   22 m/84'/1'/0'/0/1              tb1qs5wgwmsfww499dy5l9p44eye5ync0xm9rakdtk    address index 1                     0.00000000 TBTC\n",
      "   23 m/84'/1'/0'/0/2              tb1qwq9ew959hvqekjcqmr0pd7uzqwqf6gx6r2k5ej    address index 2                     0.00000000 TBTC\n",
      "   24 m/84'/1'/0'/0/3              tb1qeshr4yfq0ha092lys0rrd26y9zg34z755jtnh0    address index 3                     0.00000000 TBTC\n",
      "   25 m/84'/1'/0'/0/4              tb1qcx24j9cgqwvkwra3z2mum56s96yc0lapw5h5ch    address index 4                     0.00000000 TBTC\n",
      "\n",
      "- - Transactions Account 0 (1)\n",
      "7486972e2cbb018e1193a1d4ebab3f703ab6cf18feccf1f6a6d8f3359d5397fe  tb1qnfv97q9544e6g75asuggtr02dhksmw2gw0nmav        1       0.00006446 TBTC U \n",
      "\n",
      "= Balance Totals (includes unconfirmed) =\n",
      "testnet              (Account 0)               0.00006446 TBTC\n",
      "\n",
      "\n"
     ]
    }
   ],
   "source": [
    "# Create a wallet\n",
    "# https://bitcoinlib.readthedocs.io/en/latest/source/bitcoinlib.wallets.html#bitcoinlib.wallets.wallet_create_or_open\n",
    "from bitcoinlib.wallets import wallet_create_or_open, wallets_list\n",
    "\n",
    "# Bitcoinlib maintains wallets in a database on your computer. \n",
    "# By default this is a sqlite database located at ~/.bitcoinlib/database/bitcoinlib.sqlite\n",
    "# wallets_list()\n",
    "wallet = wallet_create_or_open('Workshop Test', keys=[key], network='testnet')\n",
    "wallet.info()"
   ]
  },
  {
   "cell_type": "code",
   "execution_count": 55,
   "id": "cffa6aad-fd8f-45b8-b5f5-33baeea87270",
   "metadata": {},
   "outputs": [
    {
     "data": {
      "text/plain": [
       "['tb1qnfv97q9544e6g75asuggtr02dhksmw2gw0nmav',\n",
       " 'tb1qs5wgwmsfww499dy5l9p44eye5ync0xm9rakdtk',\n",
       " 'tb1qwq9ew959hvqekjcqmr0pd7uzqwqf6gx6r2k5ej',\n",
       " 'tb1qeshr4yfq0ha092lys0rrd26y9zg34z755jtnh0',\n",
       " 'tb1qcx24j9cgqwvkwra3z2mum56s96yc0lapw5h5ch']"
      ]
     },
     "execution_count": 55,
     "metadata": {},
     "output_type": "execute_result"
    }
   ],
   "source": [
    "db_keys = wallet.keys(depth=5)\n",
    "first_key = db_keys[0]\n",
    "addresses = [key.address for key in db_keys]\n",
    "addresses"
   ]
  },
  {
   "cell_type": "code",
   "execution_count": 54,
   "id": "2e455411-116d-4a0a-aa43-ed20d152cb0a",
   "metadata": {},
   "outputs": [],
   "source": [
    "new_key = wallet.new_key()"
   ]
  },
  {
   "cell_type": "code",
   "execution_count": 45,
   "id": "af063b71-4bc4-4d71-92b4-27d3e038e9ea",
   "metadata": {},
   "outputs": [
    {
     "data": {
      "text/plain": [
       "{'_sa_instance_state': <sqlalchemy.orm.state.InstanceState at 0x11b223830>,\n",
       " 'depth': 5,\n",
       " 'key_type': 'bip32',\n",
       " 'balance': 0,\n",
       " 'id': 21,\n",
       " 'change': 0,\n",
       " 'address': 'tb1qnfv97q9544e6g75asuggtr02dhksmw2gw0nmav',\n",
       " 'used': False,\n",
       " 'address_index': 0,\n",
       " 'cosigner_id': None,\n",
       " 'network_name': 'testnet',\n",
       " 'name': 'address index 0',\n",
       " 'public': b'\\x03B\\xac[A\\xab\\x1e\\x89\\xa5<n\\r4\\x12T\\x021150Ip\\xa4\\x18\\xd0\\xba\\x0532\\xdcZ9K',\n",
       " 'encoding': 'bech32',\n",
       " 'latest_txid': None,\n",
       " 'parent_id': 20,\n",
       " 'private': b\"\\t'\\xf2D\\xbc\\x83\\xb2\\xcb\\xc8\\xa1%j\\xb2\\x94'G\\xdc\\x1ax-\\x13\\xc0\\xaf-\\xa6;\\xf0n\\x1b\\xfd~\\xc1\",\n",
       " 'purpose': 84,\n",
       " 'wif': 'vprv9QKq9m1JbUTypqbDUtFZiviJMKLzZG4oW3AfGxhNhHKM6Gh9ehV6joH7TdKkEjkW15XvMEUvvdLfm84CZUgD4YQtx4jsrGBAfD74EGj45BD',\n",
       " 'is_private': True,\n",
       " 'compressed': True,\n",
       " 'path': \"m/84'/1'/0'/0/0\",\n",
       " 'account_id': 0,\n",
       " 'wallet_id': 3}"
      ]
     },
     "execution_count": 45,
     "metadata": {},
     "output_type": "execute_result"
    }
   ],
   "source": [
    "first_key.__dict__"
   ]
  },
  {
   "cell_type": "code",
   "execution_count": 57,
   "id": "6e456dd6-4511-4e1d-9e28-2055f6315839",
   "metadata": {},
   "outputs": [
    {
     "data": {
      "text/plain": [
       "'tb1qnfv97q9544e6g75asuggtr02dhksmw2gw0nmav'"
      ]
     },
     "execution_count": 57,
     "metadata": {},
     "output_type": "execute_result"
    }
   ],
   "source": [
    "# Go to a bitcoin testnet faucet and get some bitcoin sent to your first address\n",
    "# https://testnet-faucet.com/btc-testnet/\n",
    "first_key.address"
   ]
  },
  {
   "cell_type": "code",
   "execution_count": 59,
   "id": "d5d3d2a0-de21-43f7-bfd1-220b89ddb2a1",
   "metadata": {},
   "outputs": [
    {
     "data": {
      "text/plain": [
       "6446"
      ]
     },
     "execution_count": 59,
     "metadata": {},
     "output_type": "execute_result"
    }
   ],
   "source": [
    "wallet.balance_update_from_serviceprovider()"
   ]
  },
  {
   "cell_type": "code",
   "execution_count": 62,
   "id": "eba5ab6d-221c-4ce2-9b66-91ccd0aeb6c6",
   "metadata": {},
   "outputs": [],
   "source": [
    "wallet.transactions_update()\n",
    "transactions = wallet.transactions()\n",
    "first_transaction = transactions[0]"
   ]
  },
  {
   "cell_type": "code",
   "execution_count": 64,
   "id": "64b0353b-1f9d-4060-b086-de22887e904e",
   "metadata": {},
   "outputs": [
    {
     "data": {
      "text/plain": [
       "{'txid': '7486972e2cbb018e1193a1d4ebab3f703ab6cf18feccf1f6a6d8f3359d5397fe',\n",
       " 'date': datetime.datetime(2023, 9, 16, 20, 59, 4),\n",
       " 'network': 'testnet',\n",
       " 'witness_type': 'segwit',\n",
       " 'coinbase': False,\n",
       " 'flag': None,\n",
       " 'txhash': '',\n",
       " 'confirmations': 1,\n",
       " 'block_height': 2502610,\n",
       " 'block_hash': None,\n",
       " 'fee': 146,\n",
       " 'fee_per_kb': 657,\n",
       " 'inputs': [{'index_n': 0,\n",
       "   'prev_txid': '980ae34d25b64f68a401fa83e0c5cd50ecc5d8c0485adecbdb71cb8ca891026a',\n",
       "   'output_n': 1,\n",
       "   'script_type': 'sig_pubkey',\n",
       "   'address': 'tb1qk4dlzlx8p7nd2th5uf7pagx68v6zgruu9sr7fu',\n",
       "   'value': 7295391,\n",
       "   'public_keys': '02c60892cdd714f66b8e659849b74f742d80072c02f7da3a149670c70f05354033',\n",
       "   'compressed': True,\n",
       "   'encoding': 'bech32',\n",
       "   'double_spend': False,\n",
       "   'script': '',\n",
       "   'redeemscript': '',\n",
       "   'sequence': 4294967293,\n",
       "   'signatures': ['5b878157a97610cb699e8b545575b5c97aa1011eda21718e377c25234390f7883f63c9340d205feda4dc08b81f6e1df83b8fbefcf318683b4d016a5e8e3a9dcc'],\n",
       "   'sigs_required': 1,\n",
       "   'locktime_cltv': None,\n",
       "   'locktime_csv': None,\n",
       "   'public_hash': 'b55bf17cc70fa6d52ef4e27c1ea0da3b34240f9c',\n",
       "   'script_code': '76a914b55bf17cc70fa6d52ef4e27c1ea0da3b34240f9c88ac',\n",
       "   'unlocking_script': '',\n",
       "   'unlocking_script_unsigned': '76a914b55bf17cc70fa6d52ef4e27c1ea0da3b34240f9c88ac',\n",
       "   'witness_type': 'segwit',\n",
       "   'witness': '304402205b878157a97610cb699e8b545575b5c97aa1011eda21718e377c25234390f78802203f63c9340d205feda4dc08b81f6e1df83b8fbefcf318683b4d016a5e8e3a9dcc0102c60892cdd714f66b8e659849b74f742d80072c02f7da3a149670c70f05354033',\n",
       "   'sort': False,\n",
       "   'valid': None}],\n",
       " 'outputs': [{'value': 7288799,\n",
       "   'script': '0014e6de608b39d3871bfa62fce5e10ab2dbb0ee31ac',\n",
       "   'script_type': 'p2wpkh',\n",
       "   'public_key': '',\n",
       "   'public_hash': 'e6de608b39d3871bfa62fce5e10ab2dbb0ee31ac',\n",
       "   'address': 'tb1qum0xpzee6wr3h7nzlnj7zz4jmwcwuvdv4mencm',\n",
       "   'output_n': 0,\n",
       "   'spent': False,\n",
       "   'spending_txid': '',\n",
       "   'spending_index_n': None},\n",
       "  {'value': 6446,\n",
       "   'script': '00149a585f00b4ad73a47a9d8710858dea6ded0db948',\n",
       "   'script_type': 'p2wpkh',\n",
       "   'public_key': '0342ac5b41ab1e89a53c6e0d34125402313135304970a418d0ba053332dc5a394b',\n",
       "   'public_hash': '9a585f00b4ad73a47a9d8710858dea6ded0db948',\n",
       "   'address': 'tb1qnfv97q9544e6g75asuggtr02dhksmw2gw0nmav',\n",
       "   'output_n': 1,\n",
       "   'spent': False,\n",
       "   'spending_txid': '',\n",
       "   'spending_index_n': None}],\n",
       " 'input_total': 7295391,\n",
       " 'output_total': 7295245,\n",
       " 'version': 1,\n",
       " 'locktime': 0,\n",
       " 'raw': '010000000001016a0291a88ccb71dbcbde5a48c0d8c5ec50cdc5e083fa01a4684fb6254de30a980100000000fdffffff02df376f0000000000160014e6de608b39d3871bfa62fce5e10ab2dbb0ee31ac2e190000000000001600149a585f00b4ad73a47a9d8710858dea6ded0db9480247304402205b878157a97610cb699e8b545575b5c97aa1011eda21718e377c25234390f78802203f63c9340d205feda4dc08b81f6e1df83b8fbefcf318683b4d016a5e8e3a9dcc012102c60892cdd714f66b8e659849b74f742d80072c02f7da3a149670c70f0535403300000000',\n",
       " 'size': 222,\n",
       " 'vsize': 141,\n",
       " 'verified': False,\n",
       " 'status': 'confirmed'}"
      ]
     },
     "execution_count": 64,
     "metadata": {},
     "output_type": "execute_result"
    }
   ],
   "source": [
    "first_transaction.as_dict()"
   ]
  },
  {
   "cell_type": "code",
   "execution_count": 86,
   "id": "f702d25c-4428-4e25-b4f0-4bdc5a9c60df",
   "metadata": {},
   "outputs": [
    {
     "name": "stdout",
     "output_type": "stream",
     "text": [
      "Transaction 4695f3554532d8194873de5e1b89a773e418d194f5b837cd20fd3f4b90140046\n",
      "Date: None\n",
      "Network: bitcoin\n",
      "Version: 1\n",
      "Witness type: legacy\n",
      "Status: new\n",
      "Verified: False\n",
      "Inputs\n",
      "- 1HyJaCR6Z3LeEAv9EpvWywiUkwPwe44qJG 0.00000000 BTC 7207fd51be6698245b12a7a81de45cd0b677c64935e208eee5febfb6ee3a72e9 3\n",
      "  legacy sig_pubkey; sigs: 1 (1-of-1) not validated\n",
      "Outputs\n",
      "- NULLDATA  b'PT2[\\xd7.\\xd2E\\x05\\x89sP\\xff\\xd9~\\x0c\\xe7\\xbb\\xc2I\\x0b\\x98*\\x9a\\x1b\\xe3U\\xdan\\x7f\\xf5\\rO\\xea\\xf3\\xc8l\\x06\\xfd|j\\xb9\\x8a9d\\x93.:S\\x03n\\x86\\x9fC\\xcb\\xa0`\\xc1w^R$\\x95\\xf3\\xce\\xa3\\xc7\\xff\\x00&1\\x9d\\x00\\x03\\x00%\\xcd5\\x00\\x0bL'\n",
      "- 1111111111111111111114oLvT2 0.00010000 BTC p2pkh U\n",
      "- 1111111111111111111114oLvT2 0.00010000 BTC p2pkh U\n",
      "- 1HyJaCR6Z3LeEAv9EpvWywiUkwPwe44qJG 1.13568978 BTC p2pkh U\n",
      "Replace by fee: Enabled\n",
      "Size: 351\n",
      "Vsize: 351\n",
      "Fee: None\n",
      "Confirmations: None\n",
      "Block: None\n"
     ]
    }
   ],
   "source": [
    "# Parsing transactions\n",
    "# https://bitcoinlib.readthedocs.io/en/latest/source/bitcoinlib.transactions.html#bitcoinlib.transactions.Transaction.parse\n",
    "from bitcoinlib.transactions import Transaction, transaction_deserialize\n",
    "\n",
    "# Find a random txid off of https://mempool.space/testnet\n",
    "txid = '4695f3554532d8194873de5e1b89a773e418d194f5b837cd20fd3f4b90140046'\n",
    "rawtx = bdc.getrawtransaction(txid)\n",
    "#print(rawtx)\n",
    "t = Transaction.parse(rawtx)\n",
    "t.info()"
   ]
  },
  {
   "cell_type": "code",
   "execution_count": 90,
   "id": "8bd0c40a-32da-4983-b766-8acc3e1f5843",
   "metadata": {},
   "outputs": [],
   "source": [
    "other_wallet = wallet_create_or_open('Testnet Wallet')"
   ]
  },
  {
   "cell_type": "code",
   "execution_count": 120,
   "id": "ff43a687-707f-44ee-bc32-ffd4d6c2b537",
   "metadata": {},
   "outputs": [
    {
     "data": {
      "text/plain": [
       "26815.0"
      ]
     },
     "execution_count": 120,
     "metadata": {},
     "output_type": "execute_result"
    }
   ],
   "source": [
    "#other_wallet.balance_update_from_serviceprovider()\n",
    "other_wallet.scan()\n",
    "other_wallet.balance()"
   ]
  },
  {
   "cell_type": "code",
   "execution_count": 98,
   "id": "4b3fb537-6487-4d2a-9cfd-852886c69379",
   "metadata": {},
   "outputs": [],
   "source": [
    "second_key = db_keys[1]\n",
    "other_t = other_wallet.send_to(second_key.address, 500, offline=False)"
   ]
  },
  {
   "cell_type": "code",
   "execution_count": 119,
   "id": "2d8dc8b4-689a-44f1-9bf0-b83fede90470",
   "metadata": {},
   "outputs": [
    {
     "name": "stdout",
     "output_type": "stream",
     "text": [
      "[datetime.datetime(2023, 9, 2, 20, 7, 32), datetime.datetime(2023, 9, 2, 20, 16, 5), datetime.datetime(2023, 9, 2, 20, 19, 48), datetime.datetime(2023, 9, 3, 20, 1, 37), datetime.datetime(2023, 9, 4, 16, 3, 57), datetime.datetime(2023, 9, 9, 21, 30, 6), datetime.datetime(2023, 9, 17, 16, 0, 56)]\n"
     ]
    }
   ],
   "source": [
    "other_wallet.transactions_update()\n",
    "other_ts = other_wallet.transactions()\n",
    "print([o.date for o in other_ts])"
   ]
  },
  {
   "cell_type": "code",
   "execution_count": 106,
   "id": "856316ff-e3f5-42cb-b290-8d5fc4de36b9",
   "metadata": {},
   "outputs": [
    {
     "name": "stdout",
     "output_type": "stream",
     "text": [
      "Transaction 917607d421435390b0b86ee2aea3cf9602a6bb327de3870828daffc21c0c6706\n",
      "Date: None\n",
      "Network: testnet\n",
      "Version: 1\n",
      "Witness type: segwit\n",
      "Status: unconfirmed\n",
      "Verified: True\n",
      "Inputs\n",
      "- tb1qnf76c9ht3ss92n39vtfxjxmrx8yyh5jzg3nnsx 0.00006617 tBTC 9ec804872f6fd240be68cff08ab240910c3f08784947859d7b031b666bb3cc39 0\n",
      "  segwit sig_pubkey; sigs: 1 (1-of-1) valid\n",
      "Outputs\n",
      "- tb1qs5wgwmsfww499dy5l9p44eye5ync0xm9rakdtk 0.00000500 tBTC p2wpkh U\n",
      "- tb1q8lc330qfx0ew5lr0s2q4aytjg7r7n8kvm3x69u 0.00005835 tBTC p2wpkh U\n",
      "Size: 222\n",
      "Vsize: 141\n",
      "Fee: 282\n",
      "Confirmations: 0\n",
      "Block: None\n",
      "Pushed to network: True\n",
      "Wallet: Testnet Wallet\n",
      "\n",
      "\n"
     ]
    }
   ],
   "source": [
    "other_t.info()"
   ]
  },
  {
   "cell_type": "code",
   "execution_count": 109,
   "id": "f3c73a80-bf6b-496a-a357-e0f6be73cd55",
   "metadata": {},
   "outputs": [
    {
     "data": {
      "text/plain": [
       "<WalletKey(key_id=29, name=address index 5, wif=vprv9Ps2dYRkCiUkg8hMqUnbRrTvtFyxtmgYVuyLzGimLQtjFi7XWEbKjxWZqbMyibrhfbx2qoQdSSnJcTMpR8k6T4WBcdPwHrkrEEx4QrcigJL, path=m/84'/1'/0'/0/5)>"
      ]
     },
     "execution_count": 109,
     "metadata": {},
     "output_type": "execute_result"
    }
   ],
   "source": [
    "other_wallet.new_key()"
   ]
  },
  {
   "cell_type": "code",
   "execution_count": 121,
   "id": "1ea020de-d560-4e75-9f5d-c08b155d5edb",
   "metadata": {},
   "outputs": [
    {
     "data": {
      "text/plain": [
       "['tb1q50vqwpchk2caf0x4z0nulkpa5eshwycvmu26sp',\n",
       " 'tb1qnf76c9ht3ss92n39vtfxjxmrx8yyh5jzg3nnsx',\n",
       " 'tb1qwx5y0dv02w040x2xqav6dccl5h3fqdpl6uvpl8',\n",
       " 'tb1qne4swrhls6uzy9axyz2gy8e70grh7vyws33rs7',\n",
       " 'tb1q2w8rtn9krnkg872zptdkn0sv66qnv7w9zj2apy',\n",
       " 'tb1qyaxvzfa7m3zxe0w6dcxmlc4uwvcwe9skkdh26q',\n",
       " 'tb1q46fk00c8v7wrvsz5q963gvjjlq3urh984tvcne',\n",
       " 'tb1q4n7xd7wqddgzrwnpqxm6z84cqdyanv7m6ut4au',\n",
       " 'tb1q2y4rw5qhyccahcv0v8earjhques8c20qfyarek',\n",
       " 'tb1q3nwuja44n6l0wp2gg0tfdk6kpkklsru533tr9d',\n",
       " 'tb1qhmkztcn8j4ae7ekkxjqf29kkqay2mwthuje32s',\n",
       " 'tb1qewkhyhe0zvau0nar7st53y0hgm7uvkush7ku6m']"
      ]
     },
     "execution_count": 121,
     "metadata": {},
     "output_type": "execute_result"
    }
   ],
   "source": [
    "other_keys = other_wallet.keys(depth=5, has_balance=False)\n",
    "addresses = [key.address for key in other_keys]\n",
    "addresses"
   ]
  },
  {
   "cell_type": "code",
   "execution_count": 131,
   "id": "3c15d21b-e50f-46d9-a152-b239996348c9",
   "metadata": {},
   "outputs": [],
   "source": [
    "new_t_to_other = wallet.transaction_create([('tb1qwx5y0dv02w040x2xqav6dccl5h3fqdpl6uvpl8', 1000)])"
   ]
  },
  {
   "cell_type": "code",
   "execution_count": 146,
   "id": "daa08ef5-6dfd-4626-99f5-d0cf85972a56",
   "metadata": {},
   "outputs": [],
   "source": [
    "#new_t_to_other.send()\n",
    "new_t_to_other.sign(key)"
   ]
  },
  {
   "cell_type": "code",
   "execution_count": 149,
   "id": "60f381a5-7354-4d61-94d2-2e9967b933f3",
   "metadata": {},
   "outputs": [
    {
     "data": {
      "text/plain": [
       "{'txid': 'b17f68c956c8fe65fd56f8c16da3c717db02b294df82cb92ead6704f52682f6e',\n",
       " 'response_dict': 'b17f68c956c8fe65fd56f8c16da3c717db02b294df82cb92ead6704f52682f6e'}"
      ]
     },
     "execution_count": 149,
     "metadata": {},
     "output_type": "execute_result"
    }
   ],
   "source": [
    "bdc.sendrawtransaction(new_t_to_other.raw_hex())"
   ]
  },
  {
   "cell_type": "code",
   "execution_count": null,
   "id": "ebdacd9c-abdc-46a9-9803-52099c327f11",
   "metadata": {},
   "outputs": [],
   "source": []
  }
 ],
 "metadata": {
  "kernelspec": {
   "display_name": "Python 3 (ipykernel)",
   "language": "python",
   "name": "python3"
  },
  "language_info": {
   "codemirror_mode": {
    "name": "ipython",
    "version": 3
   },
   "file_extension": ".py",
   "mimetype": "text/x-python",
   "name": "python",
   "nbconvert_exporter": "python",
   "pygments_lexer": "ipython3",
   "version": "3.11.0rc1"
  }
 },
 "nbformat": 4,
 "nbformat_minor": 5
}
