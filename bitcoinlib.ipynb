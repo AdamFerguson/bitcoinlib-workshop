{
 "cells": [
  {
   "cell_type": "code",
   "execution_count": null,
   "id": "56128176-9e94-45de-971b-490467d13a6d",
   "metadata": {},
   "outputs": [],
   "source": [
    "# Connecting to bitcoind: https://bitcoinlib.readthedocs.io/en/latest/source/_static/manuals.setup-bitcoind-connection.html\n",
    "\n",
    "from bitcoinlib.services.bitcoind import BitcoindClient\n",
    "import os\n",
    "\n",
    "config_file = os.path.join(os.getcwd(), 'bitcoin.conf') \n",
    "bdc = BitcoindClient.from_config(config_file)\n",
    "bdc.getinfo()"
   ]
  },
  {
   "cell_type": "code",
   "execution_count": 79,
   "id": "38fa4c33-f4d5-4ebc-8790-2953f36fee48",
   "metadata": {},
   "outputs": [],
   "source": [
    "# Generating a seed \n",
    "# NOTE - seeds generated without a sufficient amount of entropy are not secure.\n",
    "# bitcoinlib uses urandom which generally has a high amount of entropy but I would still not recommend the below method\n",
    "# for generating seeds that are used to hold funds that you would not want to lose. Look into alternatives.\n",
    "# Reddit thread discussing recent libbitcoin seed entropy issue: https://www.reddit.com/r/Buttcoin/comments/15n1nfe/be_your_own_bank_is_going_great_libbitcoin/\n",
    "\n",
    "# https://bitcoinlib.readthedocs.io/en/latest/source/bitcoinlib.mnemonic.html#bitcoinlib.mnemonic.Mnemonic.generate\n",
    "from bitcoinlib.mnemonic import Mnemonic\n",
    "mnemonic = Mnemonic()\n",
    "\n",
    "# Use strength 256 for a 24 word seed\n",
    "seed = mnemonic.generate(strength=128)\n",
    "print(\"This seed can be entered in another bitcoin wallet client application, such as Sparrow. Make sure to select testnet\")\n",
    "print(seed)\n",
    "# seed = 'whatever'\n"
   ]
  },
  {
   "cell_type": "code",
   "execution_count": null,
   "id": "30e399fc-1aff-4eb3-9438-e052c42ad930",
   "metadata": {},
   "outputs": [],
   "source": [
    "# Creating an HDKey using your seed\n",
    "# https://bitcoinlib.readthedocs.io/en/latest/source/bitcoinlib.keys.html#bitcoinlib.keys.HDKey.from_passphrase\n",
    "from bitcoinlib.keys import HDKey\n",
    "\n",
    "key = HDKey.from_passphrase(seed, witness_type='segwit', network='testnet')\n",
    "key.info()"
   ]
  },
  {
   "cell_type": "code",
   "execution_count": null,
   "id": "c9b0e58f-d1df-4402-b8a8-e338f3139dbc",
   "metadata": {},
   "outputs": [],
   "source": [
    "# Create a wallet\n",
    "# https://bitcoinlib.readthedocs.io/en/latest/source/bitcoinlib.wallets.html#bitcoinlib.wallets.wallet_create_or_open\n",
    "from bitcoinlib.wallets import wallet_create_or_open, wallets_list\n",
    "\n",
    "# Bitcoinlib maintains wallets in a database on your computer. \n",
    "# By default this is a sqlite database located at ~/.bitcoinlib/database/bitcoinlib.sqlite\n",
    "# wallets_list()\n",
    "wallet = wallet_create_or_open('Charlotte Bitcoin Workshop', keys=[key], network='testnet')\n",
    "wallet.info()"
   ]
  },
  {
   "cell_type": "code",
   "execution_count": null,
   "id": "cffa6aad-fd8f-45b8-b5f5-33baeea87270",
   "metadata": {},
   "outputs": [],
   "source": [
    "db_keys = wallet.keys(depth=5)\n",
    "first_key = db_keys[0]\n",
    "addresses = [key.address for key in db_keys]\n",
    "addresses"
   ]
  },
  {
   "cell_type": "code",
   "execution_count": 54,
   "id": "2e455411-116d-4a0a-aa43-ed20d152cb0a",
   "metadata": {},
   "outputs": [],
   "source": [
    "new_key = wallet.new_key()"
   ]
  },
  {
   "cell_type": "code",
   "execution_count": null,
   "id": "af063b71-4bc4-4d71-92b4-27d3e038e9ea",
   "metadata": {},
   "outputs": [],
   "source": [
    "first_key.__dict__"
   ]
  },
  {
   "cell_type": "code",
   "execution_count": null,
   "id": "6e456dd6-4511-4e1d-9e28-2055f6315839",
   "metadata": {},
   "outputs": [],
   "source": [
    "# Go to a bitcoin testnet faucet and get some bitcoin sent to your first address\n",
    "# https://testnet-faucet.com/btc-testnet/\n",
    "# https://coinfaucet.eu/en/btc-testnet/\n",
    "# https://bitcoinfaucet.uo1.net/\n",
    "# https://tbtc.bitaps.com/\n",
    "# https://kuttler.eu/en/bitcoin/btc/faucet/\n",
    "first_key.address"
   ]
  },
  {
   "cell_type": "code",
   "execution_count": null,
   "id": "d5d3d2a0-de21-43f7-bfd1-220b89ddb2a1",
   "metadata": {},
   "outputs": [],
   "source": [
    "wallet.balance_update_from_serviceprovider()"
   ]
  },
  {
   "cell_type": "code",
   "execution_count": 62,
   "id": "eba5ab6d-221c-4ce2-9b66-91ccd0aeb6c6",
   "metadata": {},
   "outputs": [],
   "source": [
    "wallet.transactions_update()\n",
    "transactions = wallet.transactions()\n",
    "first_transaction = transactions[0]"
   ]
  },
  {
   "cell_type": "code",
   "execution_count": null,
   "id": "64b0353b-1f9d-4060-b086-de22887e904e",
   "metadata": {},
   "outputs": [],
   "source": [
    "first_transaction.as_dict()"
   ]
  },
  {
   "cell_type": "code",
   "execution_count": null,
   "id": "f702d25c-4428-4e25-b4f0-4bdc5a9c60df",
   "metadata": {},
   "outputs": [],
   "source": [
    "# Parsing transactions\n",
    "# https://bitcoinlib.readthedocs.io/en/latest/source/bitcoinlib.transactions.html#bitcoinlib.transactions.Transaction.parse\n",
    "from bitcoinlib.transactions import Transaction, transaction_deserialize\n",
    "\n",
    "# Find a random txid off of https://mempool.space/testnet\n",
    "txid = '4695f3554532d8194873de5e1b89a773e418d194f5b837cd20fd3f4b90140046'\n",
    "rawtx = bdc.getrawtransaction(txid)\n",
    "#print(rawtx)\n",
    "t = Transaction.parse(rawtx)\n",
    "t.info()"
   ]
  },
  {
   "cell_type": "code",
   "execution_count": 90,
   "id": "8bd0c40a-32da-4983-b766-8acc3e1f5843",
   "metadata": {},
   "outputs": [],
   "source": [
    "other_wallet = wallet_create_or_open('Testnet Wallet')"
   ]
  },
  {
   "cell_type": "code",
   "execution_count": null,
   "id": "ff43a687-707f-44ee-bc32-ffd4d6c2b537",
   "metadata": {},
   "outputs": [],
   "source": [
    "#other_wallet.balance_update_from_serviceprovider()\n",
    "other_wallet.scan()\n",
    "other_wallet.balance()"
   ]
  },
  {
   "cell_type": "code",
   "execution_count": 98,
   "id": "4b3fb537-6487-4d2a-9cfd-852886c69379",
   "metadata": {},
   "outputs": [],
   "source": [
    "second_key = db_keys[1]\n",
    "other_t = other_wallet.send_to(second_key.address, 500, offline=False)"
   ]
  },
  {
   "cell_type": "code",
   "execution_count": null,
   "id": "2d8dc8b4-689a-44f1-9bf0-b83fede90470",
   "metadata": {},
   "outputs": [],
   "source": [
    "other_wallet.transactions_update()\n",
    "other_ts = other_wallet.transactions()\n",
    "print([o.date for o in other_ts])"
   ]
  },
  {
   "cell_type": "code",
   "execution_count": null,
   "id": "856316ff-e3f5-42cb-b290-8d5fc4de36b9",
   "metadata": {},
   "outputs": [],
   "source": [
    "other_t.info()"
   ]
  },
  {
   "cell_type": "code",
   "execution_count": null,
   "id": "f3c73a80-bf6b-496a-a357-e0f6be73cd55",
   "metadata": {},
   "outputs": [],
   "source": [
    "other_wallet.new_key()"
   ]
  },
  {
   "cell_type": "code",
   "execution_count": null,
   "id": "1ea020de-d560-4e75-9f5d-c08b155d5edb",
   "metadata": {},
   "outputs": [],
   "source": [
    "other_keys = other_wallet.keys(depth=5, has_balance=False)\n",
    "addresses = [key.address for key in other_keys]\n",
    "addresses"
   ]
  },
  {
   "cell_type": "code",
   "execution_count": 131,
   "id": "3c15d21b-e50f-46d9-a152-b239996348c9",
   "metadata": {},
   "outputs": [],
   "source": [
    "new_t_to_other = wallet.transaction_create([('tb1qwx5y0dv02w040x2xqav6dccl5h3fqdpl6uvpl8', 1000)])"
   ]
  },
  {
   "cell_type": "code",
   "execution_count": 146,
   "id": "daa08ef5-6dfd-4626-99f5-d0cf85972a56",
   "metadata": {},
   "outputs": [],
   "source": [
    "#new_t_to_other.send()\n",
    "new_t_to_other.sign(key)"
   ]
  },
  {
   "cell_type": "code",
   "execution_count": null,
   "id": "60f381a5-7354-4d61-94d2-2e9967b933f3",
   "metadata": {},
   "outputs": [],
   "source": [
    "bdc.sendrawtransaction(new_t_to_other.raw_hex())"
   ]
  },
  {
   "cell_type": "code",
   "execution_count": null,
   "id": "ebdacd9c-abdc-46a9-9803-52099c327f11",
   "metadata": {},
   "outputs": [],
   "source": []
  }
 ],
 "metadata": {
  "kernelspec": {
   "display_name": "Python 3 (ipykernel)",
   "language": "python",
   "name": "python3"
  },
  "language_info": {
   "codemirror_mode": {
    "name": "ipython",
    "version": 3
   },
   "file_extension": ".py",
   "mimetype": "text/x-python",
   "name": "python",
   "nbconvert_exporter": "python",
   "pygments_lexer": "ipython3",
   "version": "3.11.0rc1"
  }
 },
 "nbformat": 4,
 "nbformat_minor": 5
}
